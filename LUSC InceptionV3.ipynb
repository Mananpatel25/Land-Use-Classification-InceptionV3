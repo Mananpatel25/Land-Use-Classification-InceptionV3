{
  "cells": [
    {
      "cell_type": "code",
      "execution_count": 1,
      "metadata": {
        "id": "e6-Agmd1hO1Y"
      },
      "outputs": [],
      "source": [
        "import numpy as np\n",
        "import tensorflow as tf\n",
        "from tensorflow.keras.applications.inception_v3 import InceptionV3\n",
        "from tensorflow.keras.preprocessing import image\n",
        "from tensorflow.keras.models import Model\n",
        "from tensorflow.keras.layers import Dense, GlobalAveragePooling2D\n",
        "from tensorflow.keras.optimizers import Adam\n",
        "from sklearn.metrics import classification_report"
      ]
    },
    {
      "cell_type": "code",
      "execution_count": 2,
      "metadata": {
        "id": "N2tq2ZrG2Dw3"
      },
      "outputs": [],
      "source": [
        "np.random.seed(42)\n",
        "tf.random.set_seed(42)"
      ]
    },
    {
      "cell_type": "code",
      "execution_count": 3,
      "metadata": {
        "colab": {
          "base_uri": "https://localhost:8080/"
        },
        "id": "4zyO40Gq2KrI",
        "outputId": "80f4eaa1-334e-4b96-e92a-ee5f08aa59fe"
      },
      "outputs": [
        {
          "name": "stdout",
          "output_type": "stream",
          "text": [
            "Downloading data from https://storage.googleapis.com/tensorflow/keras-applications/inception_v3/inception_v3_weights_tf_dim_ordering_tf_kernels_notop.h5\n",
            "87916544/87910968 [==============================] - 49s 1us/step\n",
            "87924736/87910968 [==============================] - 49s 1us/step\n"
          ]
        }
      ],
      "source": [
        "base_model = InceptionV3(weights='imagenet', include_top=False)"
      ]
    },
    {
      "cell_type": "code",
      "execution_count": 4,
      "metadata": {
        "id": "Q7qJP8Nw2MSf"
      },
      "outputs": [],
      "source": [
        "x = base_model.output\n",
        "x = GlobalAveragePooling2D()(x)\n",
        "x = Dense(1024, activation='relu')(x)\n",
        "predictions = Dense(21, activation='softmax')(x)\n",
        "model = Model(inputs=base_model.input, outputs=predictions)"
      ]
    },
    {
      "cell_type": "code",
      "execution_count": 5,
      "metadata": {
        "id": "3XceF5tE2Obj"
      },
      "outputs": [],
      "source": [
        "for layer in base_model.layers:\n",
        "    layer.trainable = False"
      ]
    },
    {
      "cell_type": "code",
      "execution_count": 6,
      "metadata": {
        "id": "Ubdz-uV62QKV"
      },
      "outputs": [],
      "source": [
        "model.compile(optimizer=Adam(), loss='categorical_crossentropy', metrics=['accuracy'])"
      ]
    },
    {
      "cell_type": "code",
      "execution_count": 7,
      "metadata": {
        "colab": {
          "base_uri": "https://localhost:8080/"
        },
        "id": "7occgbaj2Rz1",
        "outputId": "e86863f5-c6ba-4d14-f027-baf7b1ee505a"
      },
      "outputs": [
        {
          "name": "stdout",
          "output_type": "stream",
          "text": [
            "Found 7350 images belonging to 21 classes.\n",
            "Found 2100 images belonging to 21 classes.\n"
          ]
        }
      ],
      "source": [
        "train_data_dir = 'train path'\n",
        "validation_data_dir = 'validation path'\n",
        "image_size = (299, 299)\n",
        "\n",
        "datagen = image.ImageDataGenerator(rescale=1./255)\n",
        "train_generator = datagen.flow_from_directory(\n",
        "    train_data_dir,\n",
        "    target_size=image_size,\n",
        "    batch_size=32,\n",
        "    class_mode='categorical')\n",
        "\n",
        "validation_generator = datagen.flow_from_directory(\n",
        "    validation_data_dir,\n",
        "    target_size=image_size,\n",
        "    batch_size=32,\n",
        "    class_mode='categorical')"
      ]
    },
    {
      "cell_type": "code",
      "execution_count": null,
      "metadata": {
        "colab": {
          "base_uri": "https://localhost:8080/"
        },
        "id": "WejAw3cE2f9_",
        "outputId": "2deceb45-6f72-40ed-c2df-4ef23e4acf1b"
      },
      "outputs": [],
      "source": [
        "model.fit_generator(\n",
        "    train_generator,\n",
        "    steps_per_epoch=train_generator.samples // train_generator.batch_size,\n",
        "    validation_data=validation_generator,\n",
        "    validation_steps=validation_generator.samples // validation_generator.batch_size,\n",
        "    epochs=10)"
      ]
    },
    {
      "cell_type": "code",
      "execution_count": null,
      "metadata": {
        "colab": {
          "base_uri": "https://localhost:8080/"
        },
        "id": "ZXhDuX_w2jOX",
        "outputId": "d4aa2498-84e6-40de-de58-6f3492f36175"
      },
      "outputs": [],
      "source": [
        "evaluation_generator = datagen.flow_from_directory(\n",
        "    validation_data_dir,\n",
        "    target_size=image_size,\n",
        "    batch_size=1,\n",
        "    class_mode='categorical',\n",
        "    shuffle=False)\n",
        "\n",
        "y_true = evaluation_generator.classes\n",
        "y_pred = model.predict_generator(evaluation_generator, steps=evaluation_generator.samples)"
      ]
    },
    {
      "cell_type": "code",
      "execution_count": 10,
      "metadata": {
        "id": "YovmcNf82oAN"
      },
      "outputs": [],
      "source": [
        "y_pred = np.argmax(y_pred, axis=1)"
      ]
    },
    {
      "cell_type": "code",
      "execution_count": 11,
      "metadata": {
        "colab": {
          "base_uri": "https://localhost:8080/"
        },
        "id": "PfId-ByV2qDn",
        "outputId": "82543a99-def1-46e3-9e6c-c9c6c5d550e9"
      },
      "outputs": [
        {
          "name": "stdout",
          "output_type": "stream",
          "text": [
            "Accuracy: 0.9142857142857143\n",
            "Classification Report:\n",
            "               precision    recall  f1-score   support\n",
            "\n",
            "           0       1.00      0.98      0.99       100\n",
            "           1       1.00      0.98      0.99       100\n",
            "           2       0.96      0.94      0.95       100\n",
            "           3       0.95      0.99      0.97       100\n",
            "           4       1.00      0.68      0.81       100\n",
            "           5       1.00      1.00      1.00       100\n",
            "           6       0.73      0.82      0.77       100\n",
            "           7       0.99      0.99      0.99       100\n",
            "           8       0.87      1.00      0.93       100\n",
            "           9       0.92      0.95      0.94       100\n",
            "          10       0.99      0.99      0.99       100\n",
            "          11       0.98      0.89      0.93       100\n",
            "          12       0.59      0.93      0.72       100\n",
            "          13       0.95      0.83      0.89       100\n",
            "          14       0.93      0.91      0.92       100\n",
            "          15       0.97      0.99      0.98       100\n",
            "          16       0.95      0.93      0.94       100\n",
            "          17       1.00      0.94      0.97       100\n",
            "          18       0.98      0.60      0.75       100\n",
            "          19       0.77      0.99      0.87       100\n",
            "          20       1.00      0.87      0.93       100\n",
            "\n",
            "    accuracy                           0.91      2100\n",
            "   macro avg       0.93      0.91      0.92      2100\n",
            "weighted avg       0.93      0.91      0.92      2100\n",
            "\n"
          ]
        }
      ],
      "source": [
        "accuracy = np.mean(y_true == y_pred)\n",
        "report = classification_report(y_true, y_pred)\n",
        "\n",
        "print(\"Accuracy:\", accuracy)\n",
        "print(\"Classification Report:\\n\", report)"
      ]
    },
    {
      "cell_type": "code",
      "execution_count": 15,
      "metadata": {
        "id": "97UpXsIpdimT"
      },
      "outputs": [],
      "source": [
        "model.save('InceptionV3.h5')"
      ]
    },
    {
      "cell_type": "code",
      "execution_count": 17,
      "metadata": {
        "id": "fcpOkSi8jAae"
      },
      "outputs": [],
      "source": [
        "image_size = (299, 299)"
      ]
    },
    {
      "cell_type": "code",
      "execution_count": 25,
      "metadata": {
        "id": "DGco81AIlLHd"
      },
      "outputs": [],
      "source": [
        "class_names = ['agricultural', 'airplane', 'baseballdiamond', 'beach', 'buildings', 'chaparral', 'denseresidential',\n",
        "               'forest', 'freeway', 'golfcourse', 'harbor', 'intersection', 'mediumreesidential', 'mobilehomepark', 'overpass', 'parkinglot',\n",
        "               'river', 'runway','sparseresidential', 'storagetanks', 'tenniscourt']"
      ]
    },
    {
      "cell_type": "code",
      "execution_count": 29,
      "metadata": {
        "id": "napPukc9jAXG"
      },
      "outputs": [],
      "source": [
        "test_image_path = 'test image'\n",
        "test_image = image.load_img(test_image_path, target_size=image_size)\n",
        "test_image = image.img_to_array(test_image)\n",
        "test_image = np.expand_dims(test_image, axis=0)\n",
        "test_image = test_image / 255.0"
      ]
    },
    {
      "cell_type": "code",
      "execution_count": 30,
      "metadata": {
        "colab": {
          "base_uri": "https://localhost:8080/"
        },
        "id": "E6JFNxY3dr7P",
        "outputId": "e22e1126-1232-4c02-87d4-511859c07482"
      },
      "outputs": [
        {
          "name": "stdout",
          "output_type": "stream",
          "text": [
            "Predicted class: denseresidential\n"
          ]
        }
      ],
      "source": [
        "prediction = model.predict(test_image)\n",
        "predicted_class_index = np.argmax(prediction, axis=1)\n",
        "predicted_class_name = class_names[predicted_class_index[0]]\n",
        "\n",
        "print(\"Predicted class:\", predicted_class_name)"
      ]
    },
    {
      "cell_type": "code",
      "execution_count": null,
      "metadata": {
        "id": "wXQA_x5pxr8Z"
      },
      "outputs": [],
      "source": []
    }
  ],
  "metadata": {
    "colab": {
      "provenance": []
    },
    "kernelspec": {
      "display_name": "Python 3",
      "name": "python3"
    },
    "language_info": {
      "name": "python"
    }
  },
  "nbformat": 4,
  "nbformat_minor": 0
}
